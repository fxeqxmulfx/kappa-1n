{
 "cells": [
  {
   "cell_type": "code",
   "execution_count": 414,
   "metadata": {},
   "outputs": [],
   "source": [
    "import numpy as np"
   ]
  },
  {
   "cell_type": "code",
   "execution_count": 415,
   "metadata": {},
   "outputs": [],
   "source": [
    "def mean_abs_deviation(S: np.ndarray) -> np.floating:\n",
    "    \"\"\"\n",
    "    Computation of mean absolute deviation of an input sample S\n",
    "    \"\"\"\n",
    "    M = np.mean(np.abs(S - np.mean(S)))\n",
    "    return M"
   ]
  },
  {
   "cell_type": "code",
   "execution_count": 416,
   "metadata": {},
   "outputs": [],
   "source": [
    "def generate_n_sample(X: np.ndarray, n: int) -> np.ndarray:\n",
    "    \"\"\"\n",
    "    Function to generate n random samples of size len(X) from an array X\n",
    "    \"\"\"\n",
    "    S_n = 0\n",
    "    for i in range(n):\n",
    "        S_n += np.random.choice(X, size=len(X))\n",
    "    return S_n"
   ]
  },
  {
   "cell_type": "code",
   "execution_count": 417,
   "metadata": {},
   "outputs": [],
   "source": [
    "def kappa_1n(X: np.ndarray, n: int = 30) -> np.floating:\n",
    "    \"\"\"\n",
    "    Taleb's kappa metric from n0=1 as described here: https://arxiv.org/abs/1802.05495\n",
    "\n",
    "    Note: K_1n = kappa(1,n) = 2 - ((log(n)-log(1))/log(M_n/M_1)), where M_n denotes the mean absolute deviation of the sum of n random samples\n",
    "    \"\"\"\n",
    "    S_1 = X\n",
    "    S_n = generate_n_sample(X, n)\n",
    "    M_1 = mean_abs_deviation(S_1)\n",
    "    M_n = mean_abs_deviation(S_n)\n",
    "    K_1n = 2 - (np.log(n) / np.log(M_n / M_1))\n",
    "    return K_1n"
   ]
  },
  {
   "cell_type": "code",
   "execution_count": 418,
   "metadata": {},
   "outputs": [],
   "source": [
    "def percentage_from_data_to_stable_variance(X: np.ndarray, n: int = 30, ng: int = 30):\n",
    "    \"\"\"Percentage from data to stable variance as for a Gaussian distribution with ng.\n",
    "    Args:\n",
    "        X: input data.\n",
    "        n: kappa coefficient, [2, inf)\n",
    "        ng: stable variance as for a Gaussian distribution with ng.\n",
    "    \"\"\"\n",
    "    k = kappa_1n(X, n)\n",
    "    result = len(X) / (ng ** -(1 / (k - 1)))\n",
    "    return result * 100"
   ]
  },
  {
   "cell_type": "code",
   "execution_count": 419,
   "metadata": {},
   "outputs": [
    {
     "data": {
      "text/plain": [
       "np.float64(247.3617348325257)"
      ]
     },
     "execution_count": 419,
     "metadata": {},
     "output_type": "execute_result"
    }
   ],
   "source": [
    "np.random.seed(42)\n",
    "data = np.random.standard_t(30, size=120)\n",
    "percentage_from_data_to_stable_variance(data)"
   ]
  },
  {
   "cell_type": "code",
   "execution_count": 420,
   "metadata": {},
   "outputs": [
    {
     "data": {
      "text/plain": [
       "np.float64(203.1788653457154)"
      ]
     },
     "execution_count": 420,
     "metadata": {},
     "output_type": "execute_result"
    }
   ],
   "source": [
    "np.random.seed(42)\n",
    "data = np.random.pareto(1.25, size=10000000)\n",
    "percentage_from_data_to_stable_variance(data)"
   ]
  }
 ],
 "metadata": {
  "kernelspec": {
   "display_name": ".venv",
   "language": "python",
   "name": "python3"
  },
  "language_info": {
   "codemirror_mode": {
    "name": "ipython",
    "version": 3
   },
   "file_extension": ".py",
   "mimetype": "text/x-python",
   "name": "python",
   "nbconvert_exporter": "python",
   "pygments_lexer": "ipython3",
   "version": "3.12.3"
  }
 },
 "nbformat": 4,
 "nbformat_minor": 2
}

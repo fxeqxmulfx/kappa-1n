{
 "cells": [
  {
   "cell_type": "code",
   "execution_count": 22,
   "metadata": {},
   "outputs": [],
   "source": [
    "import numpy as np"
   ]
  },
  {
   "cell_type": "code",
   "execution_count": 23,
   "metadata": {},
   "outputs": [],
   "source": [
    "def mean_abs_deviation(S):\n",
    "    \"\"\"\n",
    "    Computation of mean absolute deviation of an input sample S\n",
    "    \"\"\"\n",
    "    M = np.mean(np.abs(S - np.mean(S)))\n",
    "    return M"
   ]
  },
  {
   "cell_type": "code",
   "execution_count": 24,
   "metadata": {},
   "outputs": [],
   "source": [
    "def generate_n_sample(X, n):\n",
    "    \"\"\"\n",
    "    Function to generate n random samples of size len(X) from an array X\n",
    "    \"\"\"\n",
    "    S_n = 0\n",
    "    for i in range(n):\n",
    "        S_n += np.random.choice(X, size=len(X))\n",
    "    return S_n"
   ]
  },
  {
   "cell_type": "code",
   "execution_count": 25,
   "metadata": {},
   "outputs": [],
   "source": [
    "def kappa_1n(X, n):\n",
    "    \"\"\"\n",
    "    Taleb's kappa metric from n0=1 as described here: https://arxiv.org/abs/1802.05495\n",
    "\n",
    "    Note: K_1n = kappa(1,n) = 2 - ((log(n)-log(1))/log(M_n/M_1)), where M_n denotes the mean absolute deviation of the sum of n random samples\n",
    "    \"\"\"\n",
    "    S_1 = X\n",
    "    S_n = generate_n_sample(X, n)\n",
    "    M_1 = mean_abs_deviation(S_1)\n",
    "    M_n = mean_abs_deviation(S_n)\n",
    "    K_1n = 2 - (np.log(n) / np.log(M_n / M_1))\n",
    "    return K_1n"
   ]
  },
  {
   "cell_type": "code",
   "execution_count": 26,
   "metadata": {},
   "outputs": [],
   "source": [
    "def mean_kappa_1n(X, n=30, num_runs=1024):\n",
    "    kappa_list = np.zeros(num_runs)\n",
    "    for i in range(num_runs):\n",
    "        kappa_list[i] = kappa_1n(X, n)\n",
    "    return np.mean(kappa_list)"
   ]
  },
  {
   "cell_type": "code",
   "execution_count": 27,
   "metadata": {},
   "outputs": [],
   "source": [
    "def correct_len(X, n=30, num_runs=1024):\n",
    "    k = mean_kappa_1n(X, n, num_runs)\n",
    "    result = len(X) ** ((2 - 2 * k) / (2 - k))\n",
    "    return round(result)"
   ]
  },
  {
   "cell_type": "code",
   "execution_count": 28,
   "metadata": {},
   "outputs": [
    {
     "data": {
      "text/plain": [
       "0.01040100932061334"
      ]
     },
     "execution_count": 28,
     "metadata": {},
     "output_type": "execute_result"
    }
   ],
   "source": [
    "data = np.random.standard_t(30, size=1000)\n",
    "mean_kappa_1n(data)"
   ]
  },
  {
   "cell_type": "code",
   "execution_count": 29,
   "metadata": {},
   "outputs": [
    {
     "data": {
      "text/plain": [
       "966"
      ]
     },
     "execution_count": 29,
     "metadata": {},
     "output_type": "execute_result"
    }
   ],
   "source": [
    "correct_len(data)"
   ]
  },
  {
   "cell_type": "code",
   "execution_count": 33,
   "metadata": {},
   "outputs": [
    {
     "data": {
      "text/plain": [
       "0.8658569149879084"
      ]
     },
     "execution_count": 33,
     "metadata": {},
     "output_type": "execute_result"
    }
   ],
   "source": [
    "data = np.random.pareto(1.25, size=1000)\n",
    "mean_kappa_1n(data)"
   ]
  },
  {
   "cell_type": "code",
   "execution_count": 34,
   "metadata": {},
   "outputs": [
    {
     "data": {
      "text/plain": [
       "5"
      ]
     },
     "execution_count": 34,
     "metadata": {},
     "output_type": "execute_result"
    }
   ],
   "source": [
    "correct_len(data)"
   ]
  }
 ],
 "metadata": {
  "kernelspec": {
   "display_name": "experiments-oEm3wtCa-py3.11",
   "language": "python",
   "name": "python3"
  },
  "language_info": {
   "codemirror_mode": {
    "name": "ipython",
    "version": 3
   },
   "file_extension": ".py",
   "mimetype": "text/x-python",
   "name": "python",
   "nbconvert_exporter": "python",
   "pygments_lexer": "ipython3",
   "version": "3.11.6"
  }
 },
 "nbformat": 4,
 "nbformat_minor": 2
}
